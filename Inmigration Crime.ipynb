{
 "cells": [
  {
   "cell_type": "markdown",
   "id": "f86bae8c-4f21-4b0d-a32a-24ba0c5102c1",
   "metadata": {},
   "source": [
    "<h1 style=\"color: #492c68;\">01 | PREPROCESSING</h1>"
   ]
  },
  {
   "cell_type": "markdown",
   "id": "04fb6e9f-c0c4-4eda-b55d-28c7bc206d54",
   "metadata": {
    "tags": []
   },
   "source": [
    "<h2 style=\"color: #327a81;\">Libraries</h2>"
   ]
  },
  {
   "cell_type": "code",
   "execution_count": 1,
   "id": "683b14ef-f83d-4d44-8871-f774a13dcc1b",
   "metadata": {
    "tags": []
   },
   "outputs": [],
   "source": [
    "## Basic libraries\n",
    "\n",
    "import pandas as pd\n",
    "import numpy as np\n",
    "import matplotlib.pyplot as plt\n",
    "import matplotlib.dates as mdates\n",
    "import seaborn as sns\n",
    "import chardet\n",
    "\n",
    "## Settings\n",
    "\n",
    "pd.set_option('display.max_columns', None) # display all columns\n",
    "import warnings\n",
    "warnings.filterwarnings('ignore') # ignore warnings"
   ]
  },
  {
   "cell_type": "markdown",
   "id": "beed036c-0a72-4ea0-8bf4-cea125811655",
   "metadata": {},
   "source": [
    "<h2 style=\"color: #327a81;\">Data Standardization</h2>"
   ]
  },
  {
   "cell_type": "code",
   "execution_count": 2,
   "id": "14ddc95a-afa6-47d3-924b-24848010de30",
   "metadata": {
    "tags": []
   },
   "outputs": [],
   "source": [
    "with open(\"26014.csv\", \"rb\") as f:\n",
    "    result = chardet.detect(f.read())\n",
    "    encode = result[\"encoding\"]"
   ]
  },
  {
   "cell_type": "code",
   "execution_count": 3,
   "id": "000fcd79-eebe-4319-9387-487288b6b316",
   "metadata": {
    "tags": []
   },
   "outputs": [],
   "source": [
    "data = pd.read_csv(\"26014.csv\", encoding=encode, sep=\"\\t\")"
   ]
  },
  {
   "cell_type": "code",
   "execution_count": 4,
   "id": "9b2ad860-8aff-4aec-9662-5af6db8a7ebf",
   "metadata": {
    "tags": []
   },
   "outputs": [
    {
     "data": {
      "text/html": [
       "<div>\n",
       "<style scoped>\n",
       "    .dataframe tbody tr th:only-of-type {\n",
       "        vertical-align: middle;\n",
       "    }\n",
       "\n",
       "    .dataframe tbody tr th {\n",
       "        vertical-align: top;\n",
       "    }\n",
       "\n",
       "    .dataframe thead th {\n",
       "        text-align: right;\n",
       "    }\n",
       "</style>\n",
       "<table border=\"1\" class=\"dataframe\">\n",
       "  <thead>\n",
       "    <tr style=\"text-align: right;\">\n",
       "      <th></th>\n",
       "      <th>Tipo de Delito: Nivel 1</th>\n",
       "      <th>Tipo de Delito: Nivel 2</th>\n",
       "      <th>Tipo de Delito: Nivel 3</th>\n",
       "      <th>Tipo de Delito: Nivel 4</th>\n",
       "      <th>Nacionalidad</th>\n",
       "      <th>Periodo</th>\n",
       "      <th>Total</th>\n",
       "    </tr>\n",
       "  </thead>\n",
       "  <tbody>\n",
       "    <tr>\n",
       "      <th>0</th>\n",
       "      <td>A Delitos</td>\n",
       "      <td>1 Homicidio y sus formas</td>\n",
       "      <td>NaN</td>\n",
       "      <td>NaN</td>\n",
       "      <td>Española</td>\n",
       "      <td>2022</td>\n",
       "      <td>800.0</td>\n",
       "    </tr>\n",
       "    <tr>\n",
       "      <th>1</th>\n",
       "      <td>A Delitos</td>\n",
       "      <td>1 Homicidio y sus formas</td>\n",
       "      <td>NaN</td>\n",
       "      <td>NaN</td>\n",
       "      <td>Española</td>\n",
       "      <td>2021</td>\n",
       "      <td>876.0</td>\n",
       "    </tr>\n",
       "    <tr>\n",
       "      <th>2</th>\n",
       "      <td>A Delitos</td>\n",
       "      <td>1 Homicidio y sus formas</td>\n",
       "      <td>NaN</td>\n",
       "      <td>NaN</td>\n",
       "      <td>Española</td>\n",
       "      <td>2020</td>\n",
       "      <td>786.0</td>\n",
       "    </tr>\n",
       "    <tr>\n",
       "      <th>3</th>\n",
       "      <td>A Delitos</td>\n",
       "      <td>1 Homicidio y sus formas</td>\n",
       "      <td>NaN</td>\n",
       "      <td>NaN</td>\n",
       "      <td>Española</td>\n",
       "      <td>2019</td>\n",
       "      <td>847.0</td>\n",
       "    </tr>\n",
       "    <tr>\n",
       "      <th>4</th>\n",
       "      <td>A Delitos</td>\n",
       "      <td>1 Homicidio y sus formas</td>\n",
       "      <td>NaN</td>\n",
       "      <td>NaN</td>\n",
       "      <td>Española</td>\n",
       "      <td>2018</td>\n",
       "      <td>837.0</td>\n",
       "    </tr>\n",
       "    <tr>\n",
       "      <th>...</th>\n",
       "      <td>...</td>\n",
       "      <td>...</td>\n",
       "      <td>...</td>\n",
       "      <td>...</td>\n",
       "      <td>...</td>\n",
       "      <td>...</td>\n",
       "      <td>...</td>\n",
       "    </tr>\n",
       "    <tr>\n",
       "      <th>625</th>\n",
       "      <td>A Delitos</td>\n",
       "      <td>22 Contra el orden público</td>\n",
       "      <td>NaN</td>\n",
       "      <td>NaN</td>\n",
       "      <td>De Oceanía</td>\n",
       "      <td>2017</td>\n",
       "      <td>2.0</td>\n",
       "    </tr>\n",
       "    <tr>\n",
       "      <th>626</th>\n",
       "      <td>A Delitos</td>\n",
       "      <td>22 Contra el orden público</td>\n",
       "      <td>NaN</td>\n",
       "      <td>NaN</td>\n",
       "      <td>De Oceanía</td>\n",
       "      <td>2016</td>\n",
       "      <td>4.0</td>\n",
       "    </tr>\n",
       "    <tr>\n",
       "      <th>627</th>\n",
       "      <td>A Delitos</td>\n",
       "      <td>22 Contra el orden público</td>\n",
       "      <td>NaN</td>\n",
       "      <td>NaN</td>\n",
       "      <td>De Oceanía</td>\n",
       "      <td>2015</td>\n",
       "      <td>1.0</td>\n",
       "    </tr>\n",
       "    <tr>\n",
       "      <th>628</th>\n",
       "      <td>A Delitos</td>\n",
       "      <td>22 Contra el orden público</td>\n",
       "      <td>NaN</td>\n",
       "      <td>NaN</td>\n",
       "      <td>De Oceanía</td>\n",
       "      <td>2014</td>\n",
       "      <td>7.0</td>\n",
       "    </tr>\n",
       "    <tr>\n",
       "      <th>629</th>\n",
       "      <td>A Delitos</td>\n",
       "      <td>22 Contra el orden público</td>\n",
       "      <td>NaN</td>\n",
       "      <td>NaN</td>\n",
       "      <td>De Oceanía</td>\n",
       "      <td>2013</td>\n",
       "      <td>25.0</td>\n",
       "    </tr>\n",
       "  </tbody>\n",
       "</table>\n",
       "<p>630 rows × 7 columns</p>\n",
       "</div>"
      ],
      "text/plain": [
       "    Tipo de Delito: Nivel 1     Tipo de Delito: Nivel 2  \\\n",
       "0                 A Delitos    1 Homicidio y sus formas   \n",
       "1                 A Delitos    1 Homicidio y sus formas   \n",
       "2                 A Delitos    1 Homicidio y sus formas   \n",
       "3                 A Delitos    1 Homicidio y sus formas   \n",
       "4                 A Delitos    1 Homicidio y sus formas   \n",
       "..                      ...                         ...   \n",
       "625               A Delitos  22 Contra el orden público   \n",
       "626               A Delitos  22 Contra el orden público   \n",
       "627               A Delitos  22 Contra el orden público   \n",
       "628               A Delitos  22 Contra el orden público   \n",
       "629               A Delitos  22 Contra el orden público   \n",
       "\n",
       "    Tipo de Delito: Nivel 3  Tipo de Delito: Nivel 4 Nacionalidad  Periodo  \\\n",
       "0                       NaN                      NaN     Española     2022   \n",
       "1                       NaN                      NaN     Española     2021   \n",
       "2                       NaN                      NaN     Española     2020   \n",
       "3                       NaN                      NaN     Española     2019   \n",
       "4                       NaN                      NaN     Española     2018   \n",
       "..                      ...                      ...          ...      ...   \n",
       "625                     NaN                      NaN   De Oceanía     2017   \n",
       "626                     NaN                      NaN   De Oceanía     2016   \n",
       "627                     NaN                      NaN   De Oceanía     2015   \n",
       "628                     NaN                      NaN   De Oceanía     2014   \n",
       "629                     NaN                      NaN   De Oceanía     2013   \n",
       "\n",
       "     Total  \n",
       "0    800.0  \n",
       "1    876.0  \n",
       "2    786.0  \n",
       "3    847.0  \n",
       "4    837.0  \n",
       "..     ...  \n",
       "625    2.0  \n",
       "626    4.0  \n",
       "627    1.0  \n",
       "628    7.0  \n",
       "629   25.0  \n",
       "\n",
       "[630 rows x 7 columns]"
      ]
     },
     "execution_count": 4,
     "metadata": {},
     "output_type": "execute_result"
    }
   ],
   "source": [
    "data"
   ]
  },
  {
   "cell_type": "code",
   "execution_count": 5,
   "id": "d4daeac7-8bc4-4411-a950-ef9d2fb20193",
   "metadata": {
    "tags": []
   },
   "outputs": [],
   "source": [
    "df = data.copy()"
   ]
  },
  {
   "cell_type": "code",
   "execution_count": 6,
   "id": "bbd71e02-7f41-4c29-b650-5b0819135988",
   "metadata": {
    "tags": []
   },
   "outputs": [],
   "source": [
    "# Changing all columns names to lowercase for better usability\n",
    "\n",
    "df.columns = map(str.lower, df.columns)"
   ]
  },
  {
   "cell_type": "markdown",
   "id": "f8619bc8-5c4e-45d2-bd4b-ac9445f99208",
   "metadata": {
    "tags": []
   },
   "source": [
    "<h3 style=\"color: #60b671;\">Dataset shape & types</h3>"
   ]
  },
  {
   "cell_type": "code",
   "execution_count": 7,
   "id": "2f3c84c5-ca4c-4fd9-a44f-7473f63b6ddf",
   "metadata": {
    "tags": []
   },
   "outputs": [
    {
     "data": {
      "text/plain": [
       "(630, 7)"
      ]
     },
     "execution_count": 7,
     "metadata": {},
     "output_type": "execute_result"
    }
   ],
   "source": [
    "df.shape"
   ]
  },
  {
   "cell_type": "code",
   "execution_count": 8,
   "id": "f2f05553-94c6-47ef-b2ff-8048020ce000",
   "metadata": {
    "tags": []
   },
   "outputs": [
    {
     "data": {
      "text/plain": [
       "tipo de delito: nivel 1     object\n",
       "tipo de delito: nivel 2     object\n",
       "tipo de delito: nivel 3     object\n",
       "tipo de delito: nivel 4    float64\n",
       "nacionalidad                object\n",
       "periodo                      int64\n",
       "total                      float64\n",
       "dtype: object"
      ]
     },
     "execution_count": 8,
     "metadata": {},
     "output_type": "execute_result"
    }
   ],
   "source": [
    "df.dtypes"
   ]
  },
  {
   "cell_type": "markdown",
   "id": "76e1ca8f-68a8-4460-b324-fc736e7f287e",
   "metadata": {},
   "source": [
    "<h3 style=\"color: #60b671;\">Dealing with numerical types: floats bigger than 1K in \"total\"</h3>"
   ]
  },
  {
   "cell_type": "markdown",
   "id": "09a9fa7c-e0fb-4c59-be03-c86163589e17",
   "metadata": {},
   "source": [
    "- \"total\" field is recognised as float. It has interpreted x>1000 values as decimals instead of thounsads. We need to fix it"
   ]
  },
  {
   "cell_type": "code",
   "execution_count": 9,
   "id": "ea925616-9bad-4b68-95cf-a1cc6fb56b27",
   "metadata": {
    "tags": []
   },
   "outputs": [],
   "source": [
    "# Create a function that fixes thousands instead of decimals\n",
    "\n",
    "def total_fixer(value):\n",
    "    if pd.notna(value) and value != int(value):\n",
    "        return value * 1000\n",
    "    return value"
   ]
  },
  {
   "cell_type": "code",
   "execution_count": 10,
   "id": "3fc60dca-e14b-40d4-90a3-c09b877729c2",
   "metadata": {
    "tags": []
   },
   "outputs": [],
   "source": [
    "df[\"total\"] = df[\"total\"].apply(total_fixer)"
   ]
  },
  {
   "cell_type": "code",
   "execution_count": 11,
   "id": "b0079bcd-c497-462e-bdcf-f7c542772e13",
   "metadata": {
    "tags": []
   },
   "outputs": [],
   "source": [
    "# Turn \"total\" type into integer, so it will be leaner. For that we need to deal with total nulls\n",
    "#After dealing with nulls, let's convert all to int\n",
    "\n",
    "df[\"total\"] = df[\"total\"].fillna(0)\n",
    "df[\"total\"] = df[\"total\"].astype(int)"
   ]
  },
  {
   "cell_type": "code",
   "execution_count": 12,
   "id": "fd133d4b-3ad6-47bb-87bf-df9188826a73",
   "metadata": {
    "tags": []
   },
   "outputs": [
    {
     "data": {
      "text/plain": [
       "0     800\n",
       "1     876\n",
       "2     786\n",
       "3     847\n",
       "4     837\n",
       "5     925\n",
       "6    1028\n",
       "7    1071\n",
       "8    1012\n",
       "9    1096\n",
       "Name: total, dtype: int32"
      ]
     },
     "execution_count": 12,
     "metadata": {},
     "output_type": "execute_result"
    }
   ],
   "source": [
    "df[\"total\"].head(10)"
   ]
  },
  {
   "cell_type": "markdown",
   "id": "7e8f53de-29f1-4ee4-806a-2c46519df593",
   "metadata": {},
   "source": [
    "<h3 style=\"color: #60b671;\">Dealing with nulls</h3>"
   ]
  },
  {
   "cell_type": "code",
   "execution_count": 13,
   "id": "6b14f2b1-b33b-49ec-b14b-1b394e8fcd26",
   "metadata": {
    "tags": []
   },
   "outputs": [
    {
     "data": {
      "text/plain": [
       "tipo de delito: nivel 1      0\n",
       "tipo de delito: nivel 2      0\n",
       "tipo de delito: nivel 3    360\n",
       "tipo de delito: nivel 4    630\n",
       "nacionalidad                 0\n",
       "periodo                      0\n",
       "total                        0\n",
       "dtype: int64"
      ]
     },
     "execution_count": 13,
     "metadata": {},
     "output_type": "execute_result"
    }
   ],
   "source": [
    "df.isnull().sum()"
   ]
  },
  {
   "cell_type": "markdown",
   "id": "db919153-d823-47fe-86b8-85383fdc1ffd",
   "metadata": {},
   "source": [
    "- crime type fields causes the nulls because of the specific sublevels, so we will make a new column to have only one variable for the type of crime"
   ]
  },
  {
   "cell_type": "code",
   "execution_count": 14,
   "id": "178a9a52-c675-41b9-a1f4-dac5b95dfd43",
   "metadata": {
    "tags": []
   },
   "outputs": [],
   "source": [
    "crimes = df.iloc[:, [0, 1, 2, 3]]"
   ]
  },
  {
   "cell_type": "code",
   "execution_count": 15,
   "id": "f85da76b-807f-4d3c-a8ae-bde348863a38",
   "metadata": {
    "tags": []
   },
   "outputs": [
    {
     "data": {
      "text/html": [
       "<div>\n",
       "<style scoped>\n",
       "    .dataframe tbody tr th:only-of-type {\n",
       "        vertical-align: middle;\n",
       "    }\n",
       "\n",
       "    .dataframe tbody tr th {\n",
       "        vertical-align: top;\n",
       "    }\n",
       "\n",
       "    .dataframe thead th {\n",
       "        text-align: right;\n",
       "    }\n",
       "</style>\n",
       "<table border=\"1\" class=\"dataframe\">\n",
       "  <thead>\n",
       "    <tr style=\"text-align: right;\">\n",
       "      <th></th>\n",
       "      <th>tipo de delito: nivel 1</th>\n",
       "      <th>tipo de delito: nivel 2</th>\n",
       "      <th>tipo de delito: nivel 3</th>\n",
       "      <th>tipo de delito: nivel 4</th>\n",
       "    </tr>\n",
       "  </thead>\n",
       "  <tbody>\n",
       "    <tr>\n",
       "      <th>0</th>\n",
       "      <td>A Delitos</td>\n",
       "      <td>1 Homicidio y sus formas</td>\n",
       "      <td>NaN</td>\n",
       "      <td>NaN</td>\n",
       "    </tr>\n",
       "  </tbody>\n",
       "</table>\n",
       "</div>"
      ],
      "text/plain": [
       "  tipo de delito: nivel 1   tipo de delito: nivel 2 tipo de delito: nivel 3  \\\n",
       "0               A Delitos  1 Homicidio y sus formas                     NaN   \n",
       "\n",
       "   tipo de delito: nivel 4  \n",
       "0                      NaN  "
      ]
     },
     "execution_count": 15,
     "metadata": {},
     "output_type": "execute_result"
    }
   ],
   "source": [
    "crimes.head(1)"
   ]
  },
  {
   "cell_type": "code",
   "execution_count": 16,
   "id": "89c67255-5934-4548-bb92-48880bc282c7",
   "metadata": {
    "tags": []
   },
   "outputs": [],
   "source": [
    "# column 0 is irrelevant, so we drop it\n",
    "\n",
    "crimes = crimes.drop(columns=\"tipo de delito: nivel 1\")"
   ]
  },
  {
   "cell_type": "code",
   "execution_count": 17,
   "id": "4449c8a7-eea9-4fc0-b8ee-ed00ccdaced8",
   "metadata": {
    "tags": []
   },
   "outputs": [],
   "source": [
    "# It will be better if we rename the crime levels for a better usability\n",
    "\n",
    "crimes = crimes.rename(columns={\"tipo de delito: nivel 2\":\"n_2\",\n",
    "                      \"tipo de delito: nivel 3\": \"n_3\", \"tipo de delito: nivel 4\":\"n_4\"})"
   ]
  },
  {
   "cell_type": "code",
   "execution_count": 18,
   "id": "328897c1-8c65-4a0d-a1f8-db61db7c0a2d",
   "metadata": {
    "tags": []
   },
   "outputs": [],
   "source": [
    "# Use iterrows to fill the new list, this will be the new column without nulls\n",
    "\n",
    "tipo_delito = []\n",
    "\n",
    "for index, row in crimes.iterrows():\n",
    "    if pd.notna(row[\"n_3\"]):\n",
    "        tipo_delito.append(row[\"n_3\"])\n",
    "    elif pd. notna(row[\"n_4\"]):\n",
    "        tipo_delito.append(row[\"n_4\"])\n",
    "    else:\n",
    "        tipo_delito.append(row[\"n_2\"])"
   ]
  },
  {
   "cell_type": "code",
   "execution_count": 19,
   "id": "464c8ee4-f346-4f3f-a92f-1b684bf94b78",
   "metadata": {},
   "outputs": [],
   "source": [
    "# Erase the epigraph number to clean the values with a list comprehension\n",
    "\n",
    "tipo_delito = [string.split(\" \", 1)[1] for string in tipo_delito]"
   ]
  },
  {
   "cell_type": "code",
   "execution_count": 20,
   "id": "c27186df-2255-4816-9461-49f92f919bb1",
   "metadata": {
    "tags": []
   },
   "outputs": [],
   "source": [
    "df.drop(columns=df.columns[[0, 1, 2, 3]], inplace=True)"
   ]
  },
  {
   "cell_type": "code",
   "execution_count": 21,
   "id": "db7047b6-3cef-434a-b116-d41f8cdb4cef",
   "metadata": {
    "tags": []
   },
   "outputs": [],
   "source": [
    "df.insert(0, \"tipo_delito\", tipo_delito)"
   ]
  },
  {
   "cell_type": "code",
   "execution_count": 22,
   "id": "b846f0bd-e339-4dd5-9721-22c04d002f9b",
   "metadata": {
    "tags": []
   },
   "outputs": [
    {
     "data": {
      "text/plain": [
       "tipo_delito     0\n",
       "nacionalidad    0\n",
       "periodo         0\n",
       "total           0\n",
       "dtype: int64"
      ]
     },
     "execution_count": 22,
     "metadata": {},
     "output_type": "execute_result"
    }
   ],
   "source": [
    "# After dealing with crime types, Let's check again for nulls\n",
    "\n",
    "df.isnull().sum()"
   ]
  },
  {
   "cell_type": "code",
   "execution_count": 23,
   "id": "a4979fa5-e503-4132-9677-050378093930",
   "metadata": {
    "tags": []
   },
   "outputs": [
    {
     "data": {
      "text/plain": [
       "tipo_delito\n",
       "Homicidio y sus formas           90\n",
       "Lesiones                         90\n",
       "Hurtos                           90\n",
       "Robos                            90\n",
       "Daños                            90\n",
       "Contra la seguridad colectiva    90\n",
       "Contra el orden público          90\n",
       "Name: count, dtype: int64"
      ]
     },
     "execution_count": 23,
     "metadata": {},
     "output_type": "execute_result"
    }
   ],
   "source": [
    "# And check how crimes look at the end\n",
    "\n",
    "df[\"tipo_delito\"].value_counts()"
   ]
  },
  {
   "cell_type": "markdown",
   "id": "a0df9a4b-ade7-440d-b305-67b7f4fae171",
   "metadata": {},
   "source": [
    "<h3 style=\"color: #60b671;\">Extra wrangling: simplifying confusing fields</h3>"
   ]
  },
  {
   "cell_type": "code",
   "execution_count": 24,
   "id": "1362bb40-1c8b-43d1-87d3-18f1db301f2d",
   "metadata": {
    "tags": []
   },
   "outputs": [
    {
     "data": {
      "text/plain": [
       "nacionalidad\n",
       "Española                           70\n",
       "País de la UE28 sin España         70\n",
       "País de la UE27_2020 sin España    70\n",
       "País de Europa menos UE28          70\n",
       "País de Europa menos UE27_2020     70\n",
       "De Africa                          70\n",
       "De América                         70\n",
       "De Asia                            70\n",
       "De Oceanía                         70\n",
       "Name: count, dtype: int64"
      ]
     },
     "execution_count": 24,
     "metadata": {},
     "output_type": "execute_result"
    }
   ],
   "source": [
    "# Europe area could be difficult to understand because of its segmentation, so it will be better if we reunite all in one\n",
    "\n",
    "df[\"nacionalidad\"].value_counts()"
   ]
  },
  {
   "cell_type": "code",
   "execution_count": 25,
   "id": "8dab76eb-0377-479d-93a6-3e1ac4ec8bd0",
   "metadata": {
    "tags": []
   },
   "outputs": [],
   "source": [
    "# Use a mapping to rename all Europe divisions in only one\n",
    "\n",
    "mapping = {\n",
    "    \"País de la UE28 sin España\": \"De Europa\",\n",
    "    \"País de la UE27_2020 sin España\": \"De Europa\",\n",
    "    \"País de Europa menos UE28\": \"De Europa\",\n",
    "    \"País de Europa menos UE27_2020\": \"De Europa\"\n",
    "}"
   ]
  },
  {
   "cell_type": "code",
   "execution_count": 26,
   "id": "8a8c276e-8c36-426a-816e-d2be23bddb9f",
   "metadata": {
    "tags": []
   },
   "outputs": [],
   "source": [
    "df[\"nacionalidad\"] = df[\"nacionalidad\"].replace(mapping)"
   ]
  },
  {
   "cell_type": "code",
   "execution_count": 27,
   "id": "17fbf110-b6f1-4254-a03d-7c10c3eecc03",
   "metadata": {
    "tags": []
   },
   "outputs": [],
   "source": [
    "# And finally, group up those variables to sum their values\n",
    "\n",
    "columns_group = df.groupby([\"tipo_delito\", \"nacionalidad\", \"periodo\"])\n",
    "df = columns_group[\"total\"].sum().reset_index()"
   ]
  },
  {
   "cell_type": "code",
   "execution_count": 28,
   "id": "e34645bf-1bb0-4346-8cd2-e52d649ba27b",
   "metadata": {
    "tags": []
   },
   "outputs": [
    {
     "data": {
      "text/plain": [
       "nacionalidad\n",
       "De Africa     70\n",
       "De América    70\n",
       "De Asia       70\n",
       "De Europa     70\n",
       "De Oceanía    70\n",
       "Española      70\n",
       "Name: count, dtype: int64"
      ]
     },
     "execution_count": 28,
     "metadata": {},
     "output_type": "execute_result"
    }
   ],
   "source": [
    "# Check once more \"nacionalidad\" to see how it end\n",
    "\n",
    "df[\"nacionalidad\"].value_counts()"
   ]
  },
  {
   "cell_type": "markdown",
   "id": "07b72a91-1d95-43ab-bd4c-426b1c691779",
   "metadata": {},
   "source": [
    "<h3 style=\"color: #60b671;\">Dataframe final glance</h3>"
   ]
  },
  {
   "cell_type": "code",
   "execution_count": 29,
   "id": "a3e70e3e-e76c-4def-9cab-2c28ac25a8e8",
   "metadata": {
    "tags": []
   },
   "outputs": [
    {
     "name": "stdout",
     "output_type": "stream",
     "text": [
      "                       tipo_delito nacionalidad  periodo  total\n",
      "58         Contra el orden público     Española     2021  11515\n",
      "93   Contra la seguridad colectiva    De Europa     2016   7973\n",
      "204         Homicidio y sus formas      De Asia     2017     17\n",
      "332                       Lesiones    De Europa     2015   3124\n",
      "189         Homicidio y sus formas    De Africa     2022    126\n",
      "116  Contra la seguridad colectiva     Española     2019  78761\n",
      "347                       Lesiones   De Oceanía     2020      6\n",
      "138                          Daños   De América     2021    582\n",
      "241                         Hurtos    De Africa     2014    719\n",
      "65   Contra la seguridad colectiva    De Africa     2018   4973\n",
      "299                         Hurtos     Española     2022  39817\n",
      "269                         Hurtos      De Asia     2022    380\n",
      "415                          Robos     Española     2018  19462\n",
      "75   Contra la seguridad colectiva   De América     2018   9312\n",
      "154                          Daños    De Europa     2017    741\n",
      "192         Homicidio y sus formas   De América     2015     91\n",
      "291                         Hurtos     Española     2014   8020\n",
      "413                          Robos     Española     2016  22084\n",
      "84   Contra la seguridad colectiva      De Asia     2017    647\n",
      "140                          Daños      De Asia     2013     21\n"
     ]
    }
   ],
   "source": [
    "print(df.sample(20))"
   ]
  },
  {
   "cell_type": "markdown",
   "id": "20a6466d-f5e4-4b81-846a-9f7f318d4a01",
   "metadata": {},
   "source": [
    "<h1 style=\"color: #492c68;\">02 | EDA</h1>"
   ]
  },
  {
   "cell_type": "markdown",
   "id": "70801164-9ffe-407a-9e9b-10fc372d7609",
   "metadata": {},
   "source": [
    "<h2 style=\"color: #327a81;\">Crime types analysis</h2>"
   ]
  },
  {
   "cell_type": "markdown",
   "id": "b8678f5b-26c7-42f7-859f-14d092d73ff6",
   "metadata": {},
   "source": [
    "- First at all, we define a function that helps us to filter our df by crime type"
   ]
  },
  {
   "cell_type": "code",
   "execution_count": 30,
   "id": "ff4e9ec7-1b3e-4918-aa60-0190a753d88d",
   "metadata": {
    "tags": []
   },
   "outputs": [],
   "source": [
    "def crime_type_filter(value):\n",
    "    df_delito = df[df[\"tipo_delito\"] == value]\n",
    "    return df_delito    "
   ]
  },
  {
   "cell_type": "code",
   "execution_count": 31,
   "id": "82f00df8-cd79-4fcb-adb5-b89b0573ded0",
   "metadata": {
    "tags": []
   },
   "outputs": [],
   "source": [
    "# Now we can segment the data in crime type variables\n",
    "\n",
    "orden_publico = crime_type_filter(\"Contra el orden público\")\n",
    "seguridad_colectiva = crime_type_filter(\"Contra la seguridad colectiva\")\n",
    "daños = crime_type_filter(\"Daños\")\n",
    "homicidios = crime_type_filter(\"Homicidio y sus formas\")\n",
    "hurtos = crime_type_filter(\"Hurtos\")\n",
    "lesiones = crime_type_filter(\"Lesiones\")\n",
    "robos = crime_type_filter(\"Robos\")"
   ]
  },
  {
   "cell_type": "markdown",
   "id": "9ea3fb6e-77c0-44bf-929c-7c1a786831c0",
   "metadata": {},
   "source": [
    "<h2 style=\"color: #327a81;\">Type: Against Public Order</h2>"
   ]
  },
  {
   "cell_type": "markdown",
   "id": "14a2fbae-fc7d-4d90-afde-a362a31a8d33",
   "metadata": {},
   "source": [
    "<h3 style=\"color: #60b671;\">Decade Numbers and Percetage</h3>"
   ]
  },
  {
   "cell_type": "code",
   "execution_count": 32,
   "id": "31527edd-bbfc-43ca-8bae-1dae5f74e2c1",
   "metadata": {
    "tags": []
   },
   "outputs": [],
   "source": [
    "orden_publico_general = orden_publico.groupby(\"nacionalidad\")[\"total\"].sum().sort_values(ascending=False).reset_index()"
   ]
  },
  {
   "cell_type": "code",
   "execution_count": 33,
   "id": "b95f9d58-4569-4cd8-9546-1bc726587768",
   "metadata": {
    "tags": []
   },
   "outputs": [
    {
     "data": {
      "text/html": [
       "<div>\n",
       "<style scoped>\n",
       "    .dataframe tbody tr th:only-of-type {\n",
       "        vertical-align: middle;\n",
       "    }\n",
       "\n",
       "    .dataframe tbody tr th {\n",
       "        vertical-align: top;\n",
       "    }\n",
       "\n",
       "    .dataframe thead th {\n",
       "        text-align: right;\n",
       "    }\n",
       "</style>\n",
       "<table border=\"1\" class=\"dataframe\">\n",
       "  <thead>\n",
       "    <tr style=\"text-align: right;\">\n",
       "      <th></th>\n",
       "      <th>nacionalidad</th>\n",
       "      <th>total</th>\n",
       "    </tr>\n",
       "  </thead>\n",
       "  <tbody>\n",
       "    <tr>\n",
       "      <th>0</th>\n",
       "      <td>Española</td>\n",
       "      <td>103221</td>\n",
       "    </tr>\n",
       "    <tr>\n",
       "      <th>1</th>\n",
       "      <td>De Africa</td>\n",
       "      <td>15294</td>\n",
       "    </tr>\n",
       "    <tr>\n",
       "      <th>2</th>\n",
       "      <td>De Europa</td>\n",
       "      <td>14700</td>\n",
       "    </tr>\n",
       "    <tr>\n",
       "      <th>3</th>\n",
       "      <td>De América</td>\n",
       "      <td>12485</td>\n",
       "    </tr>\n",
       "    <tr>\n",
       "      <th>4</th>\n",
       "      <td>De Asia</td>\n",
       "      <td>941</td>\n",
       "    </tr>\n",
       "    <tr>\n",
       "      <th>5</th>\n",
       "      <td>De Oceanía</td>\n",
       "      <td>56</td>\n",
       "    </tr>\n",
       "  </tbody>\n",
       "</table>\n",
       "</div>"
      ],
      "text/plain": [
       "  nacionalidad   total\n",
       "0     Española  103221\n",
       "1    De Africa   15294\n",
       "2    De Europa   14700\n",
       "3   De América   12485\n",
       "4      De Asia     941\n",
       "5   De Oceanía      56"
      ]
     },
     "execution_count": 33,
     "metadata": {},
     "output_type": "execute_result"
    }
   ],
   "source": [
    "orden_publico_general"
   ]
  },
  {
   "cell_type": "code",
   "execution_count": 35,
   "id": "5708be5a-b74c-45bb-9916-70e040cc85b4",
   "metadata": {
    "tags": []
   },
   "outputs": [
    {
     "data": {
      "image/png": "[encoded data removed]",
      "text/plain": [
       "<Figure size 1200x600 with 2 Axes>"
      ]
     },
     "metadata": {},
     "output_type": "display_data"
    }
   ],
   "source": [
    "fig, axes = plt.subplots(1, 2, figsize=(12, 6))\n",
    "\n",
    "axes[0].bar(orden_publico_general[\"nacionalidad\"], orden_publico_general[\"total\"], color=\"#42af50\")\n",
    "axes[0].set_xlabel(\"Procedencia\")\n",
    "axes[0].set_ylabel(\"Número de casos\")\n",
    "axes[0].set_title(\"Delitos contra el orden público 2013-2022\")\n",
    "axes[0].tick_params(axis='x', rotation=45)\n",
    "\n",
    "orden_publico_general[\"porcentaje\"] = round(orden_publico_general[\"total\"] / orden_publico_general[\"total\"].sum() * 100, 2)\n",
    "\n",
    "wedges, texts, autotexts = axes[1].pie(orden_publico_general[\"porcentaje\"], labels=orden_publico_general[\"nacionalidad\"], \n",
    "                                       autopct=\"%1.1f%%\", startangle=140, wedgeprops=dict(width=0.3))\n",
    "plt.setp(autotexts, size=8, weight=\"bold\")\n",
    "plt.setp(texts, size=8)\n",
    "axes[1].set_title(\"Porcentaje de Delitos contra el orden público 2013-2022\")\n",
    "\n",
    "plt.tight_layout()\n",
    "plt.show()"
   ]
  },
  {
   "cell_type": "markdown",
   "id": "a59f5442-8293-40f9-a541-268c71e3af6c",
   "metadata": {},
   "source": [
    "<h3 style=\"color: #60b671;\">Evolution in the last 10 years</h3>"
   ]
  },
  {
   "cell_type": "code",
   "execution_count": 36,
   "id": "ee39b923-68c4-442e-af17-ffb5ce9d60e4",
   "metadata": {
    "tags": []
   },
   "outputs": [
    {
     "data": {
      "text/html": [
       "<div>\n",
       "<style scoped>\n",
       "    .dataframe tbody tr th:only-of-type {\n",
       "        vertical-align: middle;\n",
       "    }\n",
       "\n",
       "    .dataframe tbody tr th {\n",
       "        vertical-align: top;\n",
       "    }\n",
       "\n",
       "    .dataframe thead th {\n",
       "        text-align: right;\n",
       "    }\n",
       "</style>\n",
       "<table border=\"1\" class=\"dataframe\">\n",
       "  <thead>\n",
       "    <tr style=\"text-align: right;\">\n",
       "      <th></th>\n",
       "      <th>tipo_delito</th>\n",
       "      <th>nacionalidad</th>\n",
       "      <th>periodo</th>\n",
       "      <th>total</th>\n",
       "    </tr>\n",
       "  </thead>\n",
       "  <tbody>\n",
       "    <tr>\n",
       "      <th>0</th>\n",
       "      <td>Contra el orden público</td>\n",
       "      <td>De Africa</td>\n",
       "      <td>2013</td>\n",
       "      <td>1218</td>\n",
       "    </tr>\n",
       "    <tr>\n",
       "      <th>1</th>\n",
       "      <td>Contra el orden público</td>\n",
       "      <td>De Africa</td>\n",
       "      <td>2014</td>\n",
       "      <td>1249</td>\n",
       "    </tr>\n",
       "    <tr>\n",
       "      <th>2</th>\n",
       "      <td>Contra el orden público</td>\n",
       "      <td>De Africa</td>\n",
       "      <td>2015</td>\n",
       "      <td>1266</td>\n",
       "    </tr>\n",
       "    <tr>\n",
       "      <th>3</th>\n",
       "      <td>Contra el orden público</td>\n",
       "      <td>De Africa</td>\n",
       "      <td>2016</td>\n",
       "      <td>1366</td>\n",
       "    </tr>\n",
       "    <tr>\n",
       "      <th>4</th>\n",
       "      <td>Contra el orden público</td>\n",
       "      <td>De Africa</td>\n",
       "      <td>2017</td>\n",
       "      <td>1411</td>\n",
       "    </tr>\n",
       "    <tr>\n",
       "      <th>5</th>\n",
       "      <td>Contra el orden público</td>\n",
       "      <td>De Africa</td>\n",
       "      <td>2018</td>\n",
       "      <td>1478</td>\n",
       "    </tr>\n",
       "    <tr>\n",
       "      <th>6</th>\n",
       "      <td>Contra el orden público</td>\n",
       "      <td>De Africa</td>\n",
       "      <td>2019</td>\n",
       "      <td>1573</td>\n",
       "    </tr>\n",
       "    <tr>\n",
       "      <th>7</th>\n",
       "      <td>Contra el orden público</td>\n",
       "      <td>De Africa</td>\n",
       "      <td>2020</td>\n",
       "      <td>1392</td>\n",
       "    </tr>\n",
       "    <tr>\n",
       "      <th>8</th>\n",
       "      <td>Contra el orden público</td>\n",
       "      <td>De Africa</td>\n",
       "      <td>2021</td>\n",
       "      <td>2041</td>\n",
       "    </tr>\n",
       "    <tr>\n",
       "      <th>9</th>\n",
       "      <td>Contra el orden público</td>\n",
       "      <td>De Africa</td>\n",
       "      <td>2022</td>\n",
       "      <td>2300</td>\n",
       "    </tr>\n",
       "    <tr>\n",
       "      <th>10</th>\n",
       "      <td>Contra el orden público</td>\n",
       "      <td>De América</td>\n",
       "      <td>2013</td>\n",
       "      <td>1118</td>\n",
       "    </tr>\n",
       "    <tr>\n",
       "      <th>11</th>\n",
       "      <td>Contra el orden público</td>\n",
       "      <td>De América</td>\n",
       "      <td>2014</td>\n",
       "      <td>1168</td>\n",
       "    </tr>\n",
       "    <tr>\n",
       "      <th>12</th>\n",
       "      <td>Contra el orden público</td>\n",
       "      <td>De América</td>\n",
       "      <td>2015</td>\n",
       "      <td>1166</td>\n",
       "    </tr>\n",
       "    <tr>\n",
       "      <th>13</th>\n",
       "      <td>Contra el orden público</td>\n",
       "      <td>De América</td>\n",
       "      <td>2016</td>\n",
       "      <td>1188</td>\n",
       "    </tr>\n",
       "    <tr>\n",
       "      <th>14</th>\n",
       "      <td>Contra el orden público</td>\n",
       "      <td>De América</td>\n",
       "      <td>2017</td>\n",
       "      <td>1139</td>\n",
       "    </tr>\n",
       "    <tr>\n",
       "      <th>15</th>\n",
       "      <td>Contra el orden público</td>\n",
       "      <td>De América</td>\n",
       "      <td>2018</td>\n",
       "      <td>1156</td>\n",
       "    </tr>\n",
       "    <tr>\n",
       "      <th>16</th>\n",
       "      <td>Contra el orden público</td>\n",
       "      <td>De América</td>\n",
       "      <td>2019</td>\n",
       "      <td>1221</td>\n",
       "    </tr>\n",
       "    <tr>\n",
       "      <th>17</th>\n",
       "      <td>Contra el orden público</td>\n",
       "      <td>De América</td>\n",
       "      <td>2020</td>\n",
       "      <td>1100</td>\n",
       "    </tr>\n",
       "    <tr>\n",
       "      <th>18</th>\n",
       "      <td>Contra el orden público</td>\n",
       "      <td>De América</td>\n",
       "      <td>2021</td>\n",
       "      <td>1515</td>\n",
       "    </tr>\n",
       "    <tr>\n",
       "      <th>19</th>\n",
       "      <td>Contra el orden público</td>\n",
       "      <td>De América</td>\n",
       "      <td>2022</td>\n",
       "      <td>1714</td>\n",
       "    </tr>\n",
       "    <tr>\n",
       "      <th>20</th>\n",
       "      <td>Contra el orden público</td>\n",
       "      <td>De Asia</td>\n",
       "      <td>2013</td>\n",
       "      <td>72</td>\n",
       "    </tr>\n",
       "    <tr>\n",
       "      <th>21</th>\n",
       "      <td>Contra el orden público</td>\n",
       "      <td>De Asia</td>\n",
       "      <td>2014</td>\n",
       "      <td>98</td>\n",
       "    </tr>\n",
       "    <tr>\n",
       "      <th>22</th>\n",
       "      <td>Contra el orden público</td>\n",
       "      <td>De Asia</td>\n",
       "      <td>2015</td>\n",
       "      <td>63</td>\n",
       "    </tr>\n",
       "    <tr>\n",
       "      <th>23</th>\n",
       "      <td>Contra el orden público</td>\n",
       "      <td>De Asia</td>\n",
       "      <td>2016</td>\n",
       "      <td>84</td>\n",
       "    </tr>\n",
       "    <tr>\n",
       "      <th>24</th>\n",
       "      <td>Contra el orden público</td>\n",
       "      <td>De Asia</td>\n",
       "      <td>2017</td>\n",
       "      <td>119</td>\n",
       "    </tr>\n",
       "    <tr>\n",
       "      <th>25</th>\n",
       "      <td>Contra el orden público</td>\n",
       "      <td>De Asia</td>\n",
       "      <td>2018</td>\n",
       "      <td>77</td>\n",
       "    </tr>\n",
       "    <tr>\n",
       "      <th>26</th>\n",
       "      <td>Contra el orden público</td>\n",
       "      <td>De Asia</td>\n",
       "      <td>2019</td>\n",
       "      <td>122</td>\n",
       "    </tr>\n",
       "    <tr>\n",
       "      <th>27</th>\n",
       "      <td>Contra el orden público</td>\n",
       "      <td>De Asia</td>\n",
       "      <td>2020</td>\n",
       "      <td>72</td>\n",
       "    </tr>\n",
       "    <tr>\n",
       "      <th>28</th>\n",
       "      <td>Contra el orden público</td>\n",
       "      <td>De Asia</td>\n",
       "      <td>2021</td>\n",
       "      <td>90</td>\n",
       "    </tr>\n",
       "    <tr>\n",
       "      <th>29</th>\n",
       "      <td>Contra el orden público</td>\n",
       "      <td>De Asia</td>\n",
       "      <td>2022</td>\n",
       "      <td>144</td>\n",
       "    </tr>\n",
       "    <tr>\n",
       "      <th>30</th>\n",
       "      <td>Contra el orden público</td>\n",
       "      <td>De Europa</td>\n",
       "      <td>2013</td>\n",
       "      <td>1180</td>\n",
       "    </tr>\n",
       "    <tr>\n",
       "      <th>31</th>\n",
       "      <td>Contra el orden público</td>\n",
       "      <td>De Europa</td>\n",
       "      <td>2014</td>\n",
       "      <td>1250</td>\n",
       "    </tr>\n",
       "    <tr>\n",
       "      <th>32</th>\n",
       "      <td>Contra el orden público</td>\n",
       "      <td>De Europa</td>\n",
       "      <td>2015</td>\n",
       "      <td>1371</td>\n",
       "    </tr>\n",
       "    <tr>\n",
       "      <th>33</th>\n",
       "      <td>Contra el orden público</td>\n",
       "      <td>De Europa</td>\n",
       "      <td>2016</td>\n",
       "      <td>1435</td>\n",
       "    </tr>\n",
       "    <tr>\n",
       "      <th>34</th>\n",
       "      <td>Contra el orden público</td>\n",
       "      <td>De Europa</td>\n",
       "      <td>2017</td>\n",
       "      <td>1580</td>\n",
       "    </tr>\n",
       "    <tr>\n",
       "      <th>35</th>\n",
       "      <td>Contra el orden público</td>\n",
       "      <td>De Europa</td>\n",
       "      <td>2018</td>\n",
       "      <td>1628</td>\n",
       "    </tr>\n",
       "    <tr>\n",
       "      <th>36</th>\n",
       "      <td>Contra el orden público</td>\n",
       "      <td>De Europa</td>\n",
       "      <td>2019</td>\n",
       "      <td>1693</td>\n",
       "    </tr>\n",
       "    <tr>\n",
       "      <th>37</th>\n",
       "      <td>Contra el orden público</td>\n",
       "      <td>De Europa</td>\n",
       "      <td>2020</td>\n",
       "      <td>1243</td>\n",
       "    </tr>\n",
       "    <tr>\n",
       "      <th>38</th>\n",
       "      <td>Contra el orden público</td>\n",
       "      <td>De Europa</td>\n",
       "      <td>2021</td>\n",
       "      <td>1563</td>\n",
       "    </tr>\n",
       "    <tr>\n",
       "      <th>39</th>\n",
       "      <td>Contra el orden público</td>\n",
       "      <td>De Europa</td>\n",
       "      <td>2022</td>\n",
       "      <td>1757</td>\n",
       "    </tr>\n",
       "    <tr>\n",
       "      <th>40</th>\n",
       "      <td>Contra el orden público</td>\n",
       "      <td>De Oceanía</td>\n",
       "      <td>2013</td>\n",
       "      <td>25</td>\n",
       "    </tr>\n",
       "    <tr>\n",
       "      <th>41</th>\n",
       "      <td>Contra el orden público</td>\n",
       "      <td>De Oceanía</td>\n",
       "      <td>2014</td>\n",
       "      <td>7</td>\n",
       "    </tr>\n",
       "    <tr>\n",
       "      <th>42</th>\n",
       "      <td>Contra el orden público</td>\n",
       "      <td>De Oceanía</td>\n",
       "      <td>2015</td>\n",
       "      <td>1</td>\n",
       "    </tr>\n",
       "    <tr>\n",
       "      <th>43</th>\n",
       "      <td>Contra el orden público</td>\n",
       "      <td>De Oceanía</td>\n",
       "      <td>2016</td>\n",
       "      <td>4</td>\n",
       "    </tr>\n",
       "    <tr>\n",
       "      <th>44</th>\n",
       "      <td>Contra el orden público</td>\n",
       "      <td>De Oceanía</td>\n",
       "      <td>2017</td>\n",
       "      <td>2</td>\n",
       "    </tr>\n",
       "    <tr>\n",
       "      <th>45</th>\n",
       "      <td>Contra el orden público</td>\n",
       "      <td>De Oceanía</td>\n",
       "      <td>2018</td>\n",
       "      <td>0</td>\n",
       "    </tr>\n",
       "    <tr>\n",
       "      <th>46</th>\n",
       "      <td>Contra el orden público</td>\n",
       "      <td>De Oceanía</td>\n",
       "      <td>2019</td>\n",
       "      <td>7</td>\n",
       "    </tr>\n",
       "    <tr>\n",
       "      <th>47</th>\n",
       "      <td>Contra el orden público</td>\n",
       "      <td>De Oceanía</td>\n",
       "      <td>2020</td>\n",
       "      <td>3</td>\n",
       "    </tr>\n",
       "    <tr>\n",
       "      <th>48</th>\n",
       "      <td>Contra el orden público</td>\n",
       "      <td>De Oceanía</td>\n",
       "      <td>2021</td>\n",
       "      <td>2</td>\n",
       "    </tr>\n",
       "    <tr>\n",
       "      <th>49</th>\n",
       "      <td>Contra el orden público</td>\n",
       "      <td>De Oceanía</td>\n",
       "      <td>2022</td>\n",
       "      <td>5</td>\n",
       "    </tr>\n",
       "    <tr>\n",
       "      <th>50</th>\n",
       "      <td>Contra el orden público</td>\n",
       "      <td>Española</td>\n",
       "      <td>2013</td>\n",
       "      <td>9131</td>\n",
       "    </tr>\n",
       "    <tr>\n",
       "      <th>51</th>\n",
       "      <td>Contra el orden público</td>\n",
       "      <td>Española</td>\n",
       "      <td>2014</td>\n",
       "      <td>9545</td>\n",
       "    </tr>\n",
       "    <tr>\n",
       "      <th>52</th>\n",
       "      <td>Contra el orden público</td>\n",
       "      <td>Española</td>\n",
       "      <td>2015</td>\n",
       "      <td>9878</td>\n",
       "    </tr>\n",
       "    <tr>\n",
       "      <th>53</th>\n",
       "      <td>Contra el orden público</td>\n",
       "      <td>Española</td>\n",
       "      <td>2016</td>\n",
       "      <td>10317</td>\n",
       "    </tr>\n",
       "    <tr>\n",
       "      <th>54</th>\n",
       "      <td>Contra el orden público</td>\n",
       "      <td>Española</td>\n",
       "      <td>2017</td>\n",
       "      <td>10502</td>\n",
       "    </tr>\n",
       "    <tr>\n",
       "      <th>55</th>\n",
       "      <td>Contra el orden público</td>\n",
       "      <td>Española</td>\n",
       "      <td>2018</td>\n",
       "      <td>10605</td>\n",
       "    </tr>\n",
       "    <tr>\n",
       "      <th>56</th>\n",
       "      <td>Contra el orden público</td>\n",
       "      <td>Española</td>\n",
       "      <td>2019</td>\n",
       "      <td>10554</td>\n",
       "    </tr>\n",
       "    <tr>\n",
       "      <th>57</th>\n",
       "      <td>Contra el orden público</td>\n",
       "      <td>Española</td>\n",
       "      <td>2020</td>\n",
       "      <td>8830</td>\n",
       "    </tr>\n",
       "    <tr>\n",
       "      <th>58</th>\n",
       "      <td>Contra el orden público</td>\n",
       "      <td>Española</td>\n",
       "      <td>2021</td>\n",
       "      <td>11515</td>\n",
       "    </tr>\n",
       "    <tr>\n",
       "      <th>59</th>\n",
       "      <td>Contra el orden público</td>\n",
       "      <td>Española</td>\n",
       "      <td>2022</td>\n",
       "      <td>12344</td>\n",
       "    </tr>\n",
       "  </tbody>\n",
       "</table>\n",
       "</div>"
      ],
      "text/plain": [
       "                tipo_delito nacionalidad  periodo  total\n",
       "0   Contra el orden público    De Africa     2013   1218\n",
       "1   Contra el orden público    De Africa     2014   1249\n",
       "2   Contra el orden público    De Africa     2015   1266\n",
       "3   Contra el orden público    De Africa     2016   1366\n",
       "4   Contra el orden público    De Africa     2017   1411\n",
       "5   Contra el orden público    De Africa     2018   1478\n",
       "6   Contra el orden público    De Africa     2019   1573\n",
       "7   Contra el orden público    De Africa     2020   1392\n",
       "8   Contra el orden público    De Africa     2021   2041\n",
       "9   Contra el orden público    De Africa     2022   2300\n",
       "10  Contra el orden público   De América     2013   1118\n",
       "11  Contra el orden público   De América     2014   1168\n",
       "12  Contra el orden público   De América     2015   1166\n",
       "13  Contra el orden público   De América     2016   1188\n",
       "14  Contra el orden público   De América     2017   1139\n",
       "15  Contra el orden público   De América     2018   1156\n",
       "16  Contra el orden público   De América     2019   1221\n",
       "17  Contra el orden público   De América     2020   1100\n",
       "18  Contra el orden público   De América     2021   1515\n",
       "19  Contra el orden público   De América     2022   1714\n",
       "20  Contra el orden público      De Asia     2013     72\n",
       "21  Contra el orden público      De Asia     2014     98\n",
       "22  Contra el orden público      De Asia     2015     63\n",
       "23  Contra el orden público      De Asia     2016     84\n",
       "24  Contra el orden público      De Asia     2017    119\n",
       "25  Contra el orden público      De Asia     2018     77\n",
       "26  Contra el orden público      De Asia     2019    122\n",
       "27  Contra el orden público      De Asia     2020     72\n",
       "28  Contra el orden público      De Asia     2021     90\n",
       "29  Contra el orden público      De Asia     2022    144\n",
       "30  Contra el orden público    De Europa     2013   1180\n",
       "31  Contra el orden público    De Europa     2014   1250\n",
       "32  Contra el orden público    De Europa     2015   1371\n",
       "33  Contra el orden público    De Europa     2016   1435\n",
       "34  Contra el orden público    De Europa     2017   1580\n",
       "35  Contra el orden público    De Europa     2018   1628\n",
       "36  Contra el orden público    De Europa     2019   1693\n",
       "37  Contra el orden público    De Europa     2020   1243\n",
       "38  Contra el orden público    De Europa     2021   1563\n",
       "39  Contra el orden público    De Europa     2022   1757\n",
       "40  Contra el orden público   De Oceanía     2013     25\n",
       "41  Contra el orden público   De Oceanía     2014      7\n",
       "42  Contra el orden público   De Oceanía     2015      1\n",
       "43  Contra el orden público   De Oceanía     2016      4\n",
       "44  Contra el orden público   De Oceanía     2017      2\n",
       "45  Contra el orden público   De Oceanía     2018      0\n",
       "46  Contra el orden público   De Oceanía     2019      7\n",
       "47  Contra el orden público   De Oceanía     2020      3\n",
       "48  Contra el orden público   De Oceanía     2021      2\n",
       "49  Contra el orden público   De Oceanía     2022      5\n",
       "50  Contra el orden público     Española     2013   9131\n",
       "51  Contra el orden público     Española     2014   9545\n",
       "52  Contra el orden público     Española     2015   9878\n",
       "53  Contra el orden público     Española     2016  10317\n",
       "54  Contra el orden público     Española     2017  10502\n",
       "55  Contra el orden público     Española     2018  10605\n",
       "56  Contra el orden público     Española     2019  10554\n",
       "57  Contra el orden público     Española     2020   8830\n",
       "58  Contra el orden público     Española     2021  11515\n",
       "59  Contra el orden público     Española     2022  12344"
      ]
     },
     "execution_count": 36,
     "metadata": {},
     "output_type": "execute_result"
    }
   ],
   "source": [
    "orden_publico"
   ]
  },
  {
   "cell_type": "code",
   "execution_count": null,
   "id": "4d22b2f8-d5ab-4cf8-b63e-ec5b9322bd60",
   "metadata": {},
   "outputs": [],
   "source": []
  }
 ],
 "metadata": {
  "kernelspec": {
   "display_name": "Python 3 (ipykernel)",
   "language": "python",
   "name": "python3"
  },
  "language_info": {
   "codemirror_mode": {
    "name": "ipython",
    "version": 3
   },
   "file_extension": ".py",
   "mimetype": "text/x-python",
   "name": "python",
   "nbconvert_exporter": "python",
   "pygments_lexer": "ipython3",
   "version": "3.11.5"
  }
 },
 "nbformat": 4,
 "nbformat_minor": 5
}
